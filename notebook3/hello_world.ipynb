{
 "cells": [
  {
   "cell_type": "markdown",
   "metadata": {},
   "source": [
    "### Hello World"
   ]
  },
  {
   "cell_type": "code",
   "execution_count": 2,
   "metadata": {},
   "outputs": [
    {
     "name": "stdout",
     "output_type": "stream",
     "text": [
      "Hello World!\n"
     ]
    }
   ],
   "source": [
    "print(\"Hello World!\")"
   ]
  },
  {
   "cell_type": "markdown",
   "metadata": {},
   "source": [
    "Let's print out "
   ]
  },
  {
   "cell_type": "code",
   "execution_count": 11,
   "metadata": {},
   "outputs": [
    {
     "name": "stdout",
     "output_type": "stream",
     "text": [
      "[['SPACESHIP_VERSION', '3.10.0'],\n",
      " ['TERM_PROGRAM', 'iTerm.app'],\n",
      " ['PYENV_ROOT', '/Users/alijafargholi/.pyenv'],\n",
      " ['TERM', 'xterm-color'],\n",
      " ['SHELL', '/bin/zsh'],\n",
      " ['TMPDIR', '/var/folders/km/6f8jsv6160vffldrxy5p4n5c0000gn/T/'],\n",
      " ['Apple_PubSub_Socket_Render',\n",
      "  '/private/tmp/com.apple.launchd.ofwnfxOhTZ/Render'],\n",
      " ['TERM_PROGRAM_VERSION', '3.2.7'],\n",
      " ['TERM_SESSION_ID', 'w0t4p0:3C03208D-36C3-4DF1-8A6A-AD7AE94F9785'],\n",
      " ['PYENV_VERSION', 'notebook-3.7.1'],\n",
      " ['ZSH', '/Users/alijafargholi/.oh-my-zsh'],\n",
      " ['USER', 'alijafargholi'],\n",
      " ['COMMAND_MODE', 'unix2003'],\n",
      " ['SSH_AUTH_SOCK', '/private/tmp/com.apple.launchd.TvAiBcvat6/Listeners'],\n",
      " ['PYENV_DIR', '/Users/alijafargholi/work_space/code/notebooks/notebook3'],\n",
      " ['__CF_USER_TEXT_ENCODING', '0x1F5:0x0:0x0'],\n",
      " ['PYENV_VIRTUALENV_INIT', '1'],\n",
      " ['VIRTUAL_ENV',\n",
      "  '/Users/alijafargholi/.pyenv/versions/3.7.1/envs/notebook-3.7.1'],\n",
      " ['PAGER', 'cat'],\n",
      " ['PYENV_VIRTUAL_ENV',\n",
      "  '/Users/alijafargholi/.pyenv/versions/3.7.1/envs/notebook-3.7.1'],\n",
      " ['LSCOLORS', 'Gxfxcxdxbxegedabagacad'],\n",
      " ['PATH',\n",
      "  '/Users/alijafargholi/.pyenv/versions/notebook-3.7.1/bin:/Users/alijafargholi/.pyenv/versions/notebook-3.7.1/bin:/usr/local/Cellar/pyenv/1.2.9/libexec:/Users/alijafargholi/.pyenv/plugins/python-build/bin:/Users/alijafargholi/.pyenv/plugins/pyenv-virtualenv/bin:/Users/alijafargholi/.pyenv/plugins/pyenv-update/bin:/Users/alijafargholi/.pyenv/plugins/pyenv-installer/bin:/Users/alijafargholi/.pyenv/plugins/pyenv-doctor/bin:/Applications/Autodesk/maya2018/Maya.app/Contents/bin:/Applications/PyCharm.app/Contents/MacOS:/Users/alijafargholi/.pyenv/plugins/pyenv-virtualenv/shims:/Users/alijafargholi/.pyenv/shims:/Users/alijafargholi/bin:/usr/local/bin:/usr/local/bin:/usr/bin:/bin:/usr/sbin:/sbin'],\n",
      " ['PWD', '/Users/alijafargholi/work_space/code/notebooks/notebook3'],\n",
      " ['LANG', 'en_US.UTF-8'],\n",
      " ['ITERM_PROFILE', 'Default'],\n",
      " ['PYENV_HOOK_PATH',\n",
      "  '/Users/alijafargholi/.pyenv/pyenv.d:/usr/local/Cellar/pyenv/1.2.9/pyenv.d:/usr/local/etc/pyenv.d:/etc/pyenv.d:/usr/lib/pyenv/hooks:/Users/alijafargholi/.pyenv/plugins/pyenv-virtualenv/etc/pyenv.d:/Users/alijafargholi/.pyenv/plugins/pyenv-which-ext/etc/pyenv.d'],\n",
      " ['_OLD_VIRTUAL_PS1', '$(spaceship_prompt)'],\n",
      " ['XPC_FLAGS', '0x0'],\n",
      " ['SPACESHIP_ROOT',\n",
      "  '/Users/alijafargholi/.oh-my-zsh/custom/themes/spaceship-prompt'],\n",
      " ['XPC_SERVICE_NAME', '0'],\n",
      " ['PYENV_SHELL', 'zsh'],\n",
      " ['SHLVL', '1'],\n",
      " ['HOME', '/Users/alijafargholi'],\n",
      " ['COLORFGBG', '7;0'],\n",
      " ['ITERM_SESSION_ID', 'w0t4p0:3C03208D-36C3-4DF1-8A6A-AD7AE94F9785'],\n",
      " ['PYTHONPATH',\n",
      "  '/usr/local/Cellar/openimageio/1.8.17_1/lib/python2.7/site-packages:'],\n",
      " ['LESS', '-R'],\n",
      " ['LOGNAME', 'alijafargholi'],\n",
      " ['LC_CTYPE', 'en_US.UTF-8'],\n",
      " ['COLORTERM', 'truecolor'],\n",
      " ['JPY_PARENT_PID', '19465'],\n",
      " ['CLICOLOR', '1'],\n",
      " ['GIT_PAGER', 'cat'],\n",
      " ['MPLBACKEND', 'module://ipykernel.pylab.backend_inline']]\n"
     ]
    }
   ],
   "source": [
    "import os\n",
    "from pprint import pprint\n",
    "pprint([[key, value] for key, value in os.environ.items()])"
   ]
  },
  {
   "cell_type": "code",
   "execution_count": null,
   "metadata": {},
   "outputs": [],
   "source": []
  }
 ],
 "metadata": {
  "kernelspec": {
   "display_name": "Python 3",
   "language": "python",
   "name": "python3"
  },
  "language_info": {
   "codemirror_mode": {
    "name": "ipython",
    "version": 3
   },
   "file_extension": ".py",
   "mimetype": "text/x-python",
   "name": "python",
   "nbconvert_exporter": "python",
   "pygments_lexer": "ipython3",
   "version": "3.7.1"
  }
 },
 "nbformat": 4,
 "nbformat_minor": 2
}
